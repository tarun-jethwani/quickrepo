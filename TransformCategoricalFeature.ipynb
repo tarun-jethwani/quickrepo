{
  "nbformat": 4,
  "nbformat_minor": 0,
  "metadata": {
    "colab": {
      "name": "TransformCategoricalFeature.ipynb",
      "provenance": [],
      "collapsed_sections": [],
      "authorship_tag": "ABX9TyMl5fucaS08SO/TqymDgnRV",
      "include_colab_link": true
    },
    "kernelspec": {
      "name": "python3",
      "display_name": "Python 3"
    }
  },
  "cells": [
    {
      "cell_type": "markdown",
      "metadata": {
        "id": "view-in-github",
        "colab_type": "text"
      },
      "source": [
        "<a href=\"https://colab.research.google.com/github/tarun-jethwani/quickrepo/blob/master/TransformCategoricalFeature.ipynb\" target=\"_parent\"><img src=\"https://colab.research.google.com/assets/colab-badge.svg\" alt=\"Open In Colab\"/></a>"
      ]
    },
    {
      "cell_type": "markdown",
      "metadata": {
        "id": "4L6thiGSjymH",
        "colab_type": "text"
      },
      "source": [
        "### A partial solution excercise to \n",
        "transfrom categorical feature dataset containing n unique values to categorical column"
      ]
    },
    {
      "cell_type": "code",
      "metadata": {
        "id": "GKK2S6_UhVJJ",
        "colab_type": "code",
        "colab": {}
      },
      "source": [
        "# create a dictionary of data1 unique values to number of unique values\n",
        "data1_class = dict(zip(df['data1'].unique().tolist(), range(1,df['data1'].nunique()+1)))\n",
        "# try to map every single unique data1 value to its unique value number from dictionary \n",
        "df['data1_categorical_class'] = df['data1'].apply(lambda x : data1_class[x])"
      ],
      "execution_count": 0,
      "outputs": []
    }
  ]
}