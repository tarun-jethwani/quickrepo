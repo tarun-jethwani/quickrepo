{
  "nbformat": 4,
  "nbformat_minor": 0,
  "metadata": {
    "colab": {
      "name": "FeatureSelectionForClustering.ipynb",
      "provenance": [],
      "collapsed_sections": [],
      "authorship_tag": "ABX9TyPc8uRdkcDrf1ZkfqvyXU0I",
      "include_colab_link": true
    },
    "kernelspec": {
      "name": "python3",
      "display_name": "Python 3"
    }
  },
  "cells": [
    {
      "cell_type": "markdown",
      "metadata": {
        "id": "view-in-github",
        "colab_type": "text"
      },
      "source": [
        "<a href=\"https://colab.research.google.com/github/tarun-jethwani/quickrepo/blob/master/FeatureSelectionForClustering.ipynb\" target=\"_parent\"><img src=\"https://colab.research.google.com/assets/colab-badge.svg\" alt=\"Open In Colab\"/></a>"
      ]
    },
    {
      "cell_type": "markdown",
      "metadata": {
        "id": "s-XCmFd1ROEC",
        "colab_type": "text"
      },
      "source": [
        "### selecting s features/columns from p feature dataset for clustering\n",
        "\n",
        "The idea behind the following approach is to rank features on their variance scores, after reading a research paper for selecting subset of features for clustering.\n",
        "\n",
        "More distributed datapoints are going to be on the feature space, better is the probabilty to get well formed clusters, well distributed datapoints means high variance which leads to low uncertainity which is ideal condition for getting well formed clusters\n",
        "\n",
        "Therefore we are going to rank features on the basis of their variance."
      ]
    },
    {
      "cell_type": "code",
      "metadata": {
        "id": "m1Zt7NuFXlPf",
        "colab_type": "code",
        "colab": {}
      },
      "source": [
        "#Import necessary libraries\n",
        "import pandas as pd\n",
        "import numpy as np\n",
        "import heapq as hq # to filter out the S feature names with high rank values\n",
        "from sklearn.cluster import KMeans"
      ],
      "execution_count": 0,
      "outputs": []
    },
    {
      "cell_type": "code",
      "metadata": {
        "id": "NXOEmLzgRHAS",
        "colab_type": "code",
        "colab": {}
      },
      "source": [
        "# takes dataframe as well as S as arguments\n",
        "def rank_features(df, S): \n",
        "  col_rank = {}\n",
        "  for d in df:\n",
        "    \"\"\"\n",
        "    creating a dictionary of column : their variance score, \n",
        "    higher variance score means more suitable is the column\n",
        "    for clustering\n",
        "    \"\"\"\n",
        "    col_rank[d] = df[d].var() \n",
        "    \"\"\"\n",
        "    returning S columns/features with high variance\n",
        "    scores eventually these are top S ranks\n",
        "    \"\"\"\n",
        "  return hq.nlargest(5, col_rank, key = lambda x : col_rank[x])\n"
      ],
      "execution_count": 0,
      "outputs": []
    },
    {
      "cell_type": "code",
      "metadata": {
        "id": "JdAjURpUStfu",
        "colab_type": "code",
        "colab": {}
      },
      "source": [
        "def build_dataset(N,P,S,K):\n",
        "  # if P is greater or equal to K than only its valid paramter\n",
        "  if P >= S : \n",
        "    data = np.random.randn(N,P) # dataset created of shape N x P\n",
        "    df = pd.DataFrame(data) # creating pandas dataframe of data\n",
        "    \"\"\"\n",
        "    Now I am going to pass this Dataframe to rank feature functions to get\n",
        "    first S columns which are most suitable for Clustering\n",
        "    \"\"\"\n",
        "    S_features = rank_features(df, S)\n",
        "    # perform clustering on first S columns to get K clusters on sample\n",
        "    clusters = KMeans(n_clusters=K, random_state=0).fit(df[S_features])\n",
        "    return clusters \n",
        "  else :\n",
        "    print(\"invalid entry\") \n",
        "    return 0"
      ],
      "execution_count": 0,
      "outputs": []
    },
    {
      "cell_type": "markdown",
      "metadata": {
        "id": "MI1ER8_qeNLr",
        "colab_type": "text"
      },
      "source": [
        "### Tested and Working Perfectly !!!"
      ]
    },
    {
      "cell_type": "code",
      "metadata": {
        "id": "y20KgU-dd_op",
        "colab_type": "code",
        "colab": {
          "base_uri": "https://localhost:8080/",
          "height": 68
        },
        "outputId": "6c0c59e7-fe8f-457b-8e47-d223f46eca16"
      },
      "source": [
        "build_dataset(1000,10,5,3)"
      ],
      "execution_count": 46,
      "outputs": [
        {
          "output_type": "execute_result",
          "data": {
            "text/plain": [
              "KMeans(algorithm='auto', copy_x=True, init='k-means++', max_iter=300,\n",
              "       n_clusters=3, n_init=10, n_jobs=None, precompute_distances='auto',\n",
              "       random_state=0, tol=0.0001, verbose=0)"
            ]
          },
          "metadata": {
            "tags": []
          },
          "execution_count": 46
        }
      ]
    }
  ]
}